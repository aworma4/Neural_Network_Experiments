{
 "cells": [
  {
   "cell_type": "markdown",
   "id": "7be36011-b8cb-472f-867a-a5aeabc4b045",
   "metadata": {},
   "source": [
    "# Exploring Text summarisers withi BERT\n",
    "https://medium.com/analytics-vidhya/text-summarization-using-bert-gpt2-xlnet-5ee80608e961"
   ]
  },
  {
   "cell_type": "code",
   "execution_count": 15,
   "id": "25d3b578-cebb-4651-969c-6c73bc815ca3",
   "metadata": {},
   "outputs": [
    {
     "name": "stdout",
     "output_type": "stream",
     "text": [
      "3.9.13 (main, Aug 25 2022, 23:51:50) [MSC v.1916 64 bit (AMD64)]\n"
     ]
    }
   ],
   "source": [
    "#print version\n",
    "import sys\n",
    "print(sys.version)\n"
   ]
  },
  {
   "cell_type": "code",
   "execution_count": 20,
   "id": "cc65c4b1-860a-4fa1-8a90-089243099681",
   "metadata": {},
   "outputs": [
    {
     "name": "stdout",
     "output_type": "stream",
     "text": [
      "Collecting summarizer\n",
      "  Downloading summarizer-0.0.7.tar.gz (280 kB)\n",
      "     -------------------------------------- 280.1/280.1 kB 5.7 MB/s eta 0:00:00\n",
      "  Preparing metadata (setup.py): started\n",
      "  Preparing metadata (setup.py): finished with status 'done'\n",
      "Requirement already satisfied: nltk in c:\\users\\at030915\\anaconda3\\lib\\site-packages (from summarizer) (3.7)\n",
      "Requirement already satisfied: joblib in c:\\users\\at030915\\anaconda3\\lib\\site-packages (from nltk->summarizer) (1.1.0)\n",
      "Requirement already satisfied: tqdm in c:\\users\\at030915\\anaconda3\\lib\\site-packages (from nltk->summarizer) (4.64.1)\n",
      "Requirement already satisfied: click in c:\\users\\at030915\\anaconda3\\lib\\site-packages (from nltk->summarizer) (8.0.4)\n",
      "Requirement already satisfied: regex>=2021.8.3 in c:\\users\\at030915\\anaconda3\\lib\\site-packages (from nltk->summarizer) (2022.7.9)\n",
      "Requirement already satisfied: colorama in c:\\users\\at030915\\anaconda3\\lib\\site-packages (from click->nltk->summarizer) (0.4.5)\n",
      "Building wheels for collected packages: summarizer\n",
      "  Building wheel for summarizer (setup.py): started\n",
      "  Building wheel for summarizer (setup.py): finished with status 'done'\n",
      "  Created wheel for summarizer: filename=summarizer-0.0.7-py2.py3-none-any.whl size=284210 sha256=0a6325890053bcdae1c743eb976d80439d6462be29bf483c9e94a2e950b2fc1a\n",
      "  Stored in directory: c:\\users\\at030915\\appdata\\local\\pip\\cache\\wheels\\9e\\65\\2d\\389857cbe6fb8c98184cce938481b283faaf777023832e0aea\n",
      "Successfully built summarizer\n",
      "Installing collected packages: summarizer\n",
      "Successfully installed summarizer-0.0.7\n"
     ]
    }
   ],
   "source": [
    "#Install required packages \n",
    "#!pip install summarizer\n",
    "# !pip install transformers==2.2.0\n",
    "# !pip install bert-extractive-summarizer\n",
    "# !pip install spacy==2.0.12\n",
    "\n",
    "\n",
    "\n",
    "#!pip install transformers --upgrade\n",
    "#!pip install torch \n",
    "\n"
   ]
  },
  {
   "cell_type": "code",
   "execution_count": 22,
   "id": "f716ed6e-e1f0-4fda-8caa-5befbf2e0981",
   "metadata": {},
   "outputs": [
    {
     "ename": "ImportError",
     "evalue": "cannot import name 'TransformerSummarizer' from 'summarizer' (C:\\Users\\AT030915\\anaconda3\\lib\\site-packages\\summarizer\\__init__.py)",
     "output_type": "error",
     "traceback": [
      "\u001b[1;31m---------------------------------------------------------------------------\u001b[0m",
      "\u001b[1;31mImportError\u001b[0m                               Traceback (most recent call last)",
      "\u001b[1;32m~\\AppData\\Local\\Temp\\ipykernel_8588\\1193558042.py\u001b[0m in \u001b[0;36m<module>\u001b[1;34m\u001b[0m\n\u001b[1;32m----> 1\u001b[1;33m \u001b[1;32mfrom\u001b[0m \u001b[0msummarizer\u001b[0m \u001b[1;32mimport\u001b[0m \u001b[0mSummarizer\u001b[0m\u001b[1;33m,\u001b[0m \u001b[0mTransformerSummarizer\u001b[0m\u001b[1;33m\u001b[0m\u001b[1;33m\u001b[0m\u001b[0m\n\u001b[0m",
      "\u001b[1;31mImportError\u001b[0m: cannot import name 'TransformerSummarizer' from 'summarizer' (C:\\Users\\AT030915\\anaconda3\\lib\\site-packages\\summarizer\\__init__.py)"
     ]
    }
   ],
   "source": [
    "from summarizer import Summarizer, TransformerSummarizer "
   ]
  },
  {
   "cell_type": "code",
   "execution_count": 13,
   "id": "60ade27e-2f90-48b0-86b3-d1521bc7124f",
   "metadata": {},
   "outputs": [
    {
     "name": "stdout",
     "output_type": "stream",
     "text": [
      "       Scientists say they have discovered a new species of orangutans on Indonesia's island of Sumatra.\n",
      "The population differs in several ways from the two existing orangutan species found in Sumatra and the neighboring island of Borneo.\n",
      "The orangutans were found inside North Sumatra's Batang Toru forest, the science publication Current Biology reported.\n",
      "Researchers named the new species the Tapanuli orangutan. They say the animals are considered a new species because of genetic, skeletal and tooth differences.\n",
      "Michael Kruetzen is a geneticist with the University of Zurich who has studied the orangutans for several years. He said he was excited to be part of the unusual discovery of a new great ape in the present day. He noted that most great apes are currently considered endangered or severely endangered.\n",
      "Gorillas, chimpanzees and bonobos also belong to the great ape species.\n",
      "Orangutan - which means person of the forest in the Indonesian and Malay languages - is the world's biggest tree-living mammal. The orange-haired animals can move easily among the trees because their arms are longer than their legs. They live more lonely lives than other great apes, spending a lot of time sleeping and eating fruit in the forest.\n",
      "The new study said fewer than 800 of the newly-described orangutans exist. Their low numbers make the group the most endangered of all the great ape species.\n",
      "They live within an area covering about 1,000 square kilometers. The population is considered highly vulnerable. That is because the environment which they depend on is greatly threatened by development.\n",
      "Researchers say if steps are not taken quickly to reduce the current and future threats, the new species could become extinct \"within our lifetime.\"\n",
      "Research into the new species began in 2013, when an orangutan protection group in Sumatra found an injured orangutan in an area far away from the other species. The adult male orangutan had been beaten by local villagers and died of his injuries. The complete skull was examined by researchers.\n",
      "Among the physical differences of the new species are a notably smaller head and frizzier hair. The Tapanuli orangutans also have a different diet and are found only in higher forest areas.\n",
      "There is no unified international system for recognizing new species. But to be considered, discovery claims at least require publication in a major scientific publication.\n",
      "Russell Mittermeier is head of the primate specialist group at the International Union for the Conservation of Nature. He called the finding a \"remarkable discovery.\" He said it puts responsibility on the Indonesian government to help the species survive.\n",
      "Matthew Nowak is one of the writers of the study. He told the Associated Press that there are three groups of the Tapanuli orangutans that are separated by non-protected land.He said forest land needs to connect the separated groups.\n",
      "In addition, the writers of the study are recommending that plans for a hydropower center in the area be stopped by the government.\n",
      "It also recommended that remaining forest in the Sumatran area where the orangutans live be protected.\n",
      "I'm Bryan Lynn.\n",
      "\n"
     ]
    }
   ],
   "source": [
    "f = open('body_corpus.txt', 'r')\n",
    "#Store content in a variable:\n",
    "body = f.read()\n",
    "print(body)"
   ]
  },
  {
   "cell_type": "code",
   "execution_count": 14,
   "id": "d32e6e4c-f2c1-4f4f-a160-54fbfd78cdc9",
   "metadata": {},
   "outputs": [
    {
     "ename": "NameError",
     "evalue": "name 'Summarizer' is not defined",
     "output_type": "error",
     "traceback": [
      "\u001b[1;31m---------------------------------------------------------------------------\u001b[0m",
      "\u001b[1;31mNameError\u001b[0m                                 Traceback (most recent call last)",
      "\u001b[1;32m~\\AppData\\Local\\Temp\\ipykernel_8588\\37838798.py\u001b[0m in \u001b[0;36m<module>\u001b[1;34m\u001b[0m\n\u001b[0;32m      1\u001b[0m \u001b[1;31m# try summarising\u001b[0m\u001b[1;33m\u001b[0m\u001b[1;33m\u001b[0m\u001b[0m\n\u001b[1;32m----> 2\u001b[1;33m \u001b[0mbert_model\u001b[0m \u001b[1;33m=\u001b[0m \u001b[0mSummarizer\u001b[0m\u001b[1;33m(\u001b[0m\u001b[1;33m)\u001b[0m\u001b[1;33m\u001b[0m\u001b[1;33m\u001b[0m\u001b[0m\n\u001b[0m\u001b[0;32m      3\u001b[0m \u001b[0mbert_summary\u001b[0m \u001b[1;33m=\u001b[0m \u001b[1;34m''\u001b[0m\u001b[1;33m.\u001b[0m\u001b[0mjoin\u001b[0m\u001b[1;33m(\u001b[0m\u001b[0mbert_model\u001b[0m\u001b[1;33m(\u001b[0m\u001b[0mbody\u001b[0m\u001b[1;33m,\u001b[0m \u001b[0mmin_length\u001b[0m\u001b[1;33m=\u001b[0m\u001b[1;36m60\u001b[0m\u001b[1;33m)\u001b[0m\u001b[1;33m)\u001b[0m\u001b[1;33m\u001b[0m\u001b[1;33m\u001b[0m\u001b[0m\n\u001b[0;32m      4\u001b[0m \u001b[0mprint\u001b[0m\u001b[1;33m(\u001b[0m\u001b[0mbert_summary\u001b[0m\u001b[1;33m)\u001b[0m\u001b[1;33m\u001b[0m\u001b[1;33m\u001b[0m\u001b[0m\n",
      "\u001b[1;31mNameError\u001b[0m: name 'Summarizer' is not defined"
     ]
    }
   ],
   "source": [
    "# try summarising\n",
    "bert_model = Summarizer()\n",
    "bert_summary = ''.join(bert_model(body, min_length=60))\n",
    "print(bert_summary)"
   ]
  },
  {
   "cell_type": "code",
   "execution_count": null,
   "id": "b00a3609-b3e3-41a1-a75c-c6dc09dc01bb",
   "metadata": {},
   "outputs": [],
   "source": []
  }
 ],
 "metadata": {
  "kernelspec": {
   "display_name": "Python 3 (ipykernel)",
   "language": "python",
   "name": "python3"
  },
  "language_info": {
   "codemirror_mode": {
    "name": "ipython",
    "version": 3
   },
   "file_extension": ".py",
   "mimetype": "text/x-python",
   "name": "python",
   "nbconvert_exporter": "python",
   "pygments_lexer": "ipython3",
   "version": "3.9.13"
  }
 },
 "nbformat": 4,
 "nbformat_minor": 5
}
