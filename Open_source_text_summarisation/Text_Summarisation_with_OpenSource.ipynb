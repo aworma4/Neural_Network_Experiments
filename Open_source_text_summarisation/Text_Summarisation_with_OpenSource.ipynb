{
 "cells": [
  {
   "cell_type": "markdown",
   "id": "7be36011-b8cb-472f-867a-a5aeabc4b045",
   "metadata": {},
   "source": [
    "# Exploring Text summarisers withi BERT\n",
    "https://medium.com/analytics-vidhya/text-summarization-using-bert-gpt2-xlnet-5ee80608e961"
   ]
  },
  {
   "cell_type": "markdown",
   "id": "26850623-5210-45be-af8b-0f27f16498ab",
   "metadata": {},
   "source": [
    "#created virtual environment \n",
    "https://docs.python.org/3/library/venv.html\n",
    "\n",
    "#using venv in jupyter\n",
    "https://www.geeksforgeeks.org/using-jupyter-notebook-in-virtual-environment/"
   ]
  },
  {
   "cell_type": "code",
   "execution_count": 1,
   "id": "25d3b578-cebb-4651-969c-6c73bc815ca3",
   "metadata": {},
   "outputs": [
    {
     "name": "stdout",
     "output_type": "stream",
     "text": [
      "3.9.13 (main, Aug 25 2022, 23:51:50) [MSC v.1916 64 bit (AMD64)]\n",
      "BERT_TEST\n"
     ]
    }
   ],
   "source": [
    "#print version\n",
    "import sys\n",
    "print(sys.version)\n",
    "\n",
    "import os\n",
    "\n",
    "!conda activate BERT_TEST\n",
    "print(os.environ['CONDA_DEFAULT_ENV'])\n"
   ]
  },
  {
   "cell_type": "code",
   "execution_count": 4,
   "id": "cc65c4b1-860a-4fa1-8a90-089243099681",
   "metadata": {},
   "outputs": [
    {
     "name": "stdout",
     "output_type": "stream",
     "text": [
      "Looking in links: https://download.pytorch.org/whl/torch_stable.html\n"
     ]
    },
    {
     "name": "stderr",
     "output_type": "stream",
     "text": [
      "ERROR: Could not find a version that satisfies the requirement torch==1.6.0+cpu (from versions: 1.7.1, 1.7.1+cpu, 1.7.1+cu101, 1.7.1+cu110, 1.8.0, 1.8.0+cpu, 1.8.0+cu101, 1.8.0+cu111, 1.8.1, 1.8.1+cpu, 1.8.1+cu101, 1.8.1+cu102, 1.8.1+cu111, 1.9.0, 1.9.0+cpu, 1.9.0+cu102, 1.9.0+cu111, 1.9.1, 1.9.1+cpu, 1.9.1+cu102, 1.9.1+cu111, 1.10.0, 1.10.0+cpu, 1.10.0+cu102, 1.10.0+cu111, 1.10.0+cu113, 1.10.1, 1.10.1+cpu, 1.10.1+cu102, 1.10.1+cu111, 1.10.1+cu113, 1.10.2, 1.10.2+cpu, 1.10.2+cu102, 1.10.2+cu111, 1.10.2+cu113, 1.11.0, 1.11.0+cpu, 1.11.0+cu113, 1.11.0+cu115, 1.12.0, 1.12.0+cpu, 1.12.0+cu113, 1.12.0+cu116, 1.12.1, 1.12.1+cpu, 1.12.1+cu113, 1.12.1+cu116, 1.13.0, 1.13.0+cpu, 1.13.0+cu116, 1.13.0+cu117, 1.13.1, 1.13.1+cpu, 1.13.1+cu116, 1.13.1+cu117)\n",
      "ERROR: No matching distribution found for torch==1.6.0+cpu\n"
     ]
    },
    {
     "name": "stdout",
     "output_type": "stream",
     "text": [
      "Requirement already satisfied: bert-extractive-summarizer==0.4.2 in c:\\users\\at030915\\anaconda3\\envs\\bert_test\\lib\\site-packages (0.4.2)\n",
      "Requirement already satisfied: transformers in c:\\users\\at030915\\anaconda3\\envs\\bert_test\\lib\\site-packages (from bert-extractive-summarizer==0.4.2) (4.25.1)\n",
      "Requirement already satisfied: spacy in c:\\users\\at030915\\anaconda3\\envs\\bert_test\\lib\\site-packages (from bert-extractive-summarizer==0.4.2) (3.4.4)\n",
      "Requirement already satisfied: scikit-learn in c:\\users\\at030915\\appdata\\roaming\\python\\python39\\site-packages (from bert-extractive-summarizer==0.4.2) (1.2.0)\n",
      "Requirement already satisfied: numpy>=1.17.3 in c:\\users\\at030915\\appdata\\roaming\\python\\python39\\site-packages (from scikit-learn->bert-extractive-summarizer==0.4.2) (1.24.1)\n",
      "Requirement already satisfied: threadpoolctl>=2.0.0 in c:\\users\\at030915\\anaconda3\\envs\\bert_test\\lib\\site-packages (from scikit-learn->bert-extractive-summarizer==0.4.2) (3.1.0)\n",
      "Requirement already satisfied: scipy>=1.3.2 in c:\\users\\at030915\\appdata\\roaming\\python\\python39\\site-packages (from scikit-learn->bert-extractive-summarizer==0.4.2) (1.10.0)\n",
      "Requirement already satisfied: joblib>=1.1.1 in c:\\users\\at030915\\appdata\\roaming\\python\\python39\\site-packages (from scikit-learn->bert-extractive-summarizer==0.4.2) (1.2.0)\n",
      "Requirement already satisfied: spacy-loggers<2.0.0,>=1.0.0 in c:\\users\\at030915\\anaconda3\\envs\\bert_test\\lib\\site-packages (from spacy->bert-extractive-summarizer==0.4.2) (1.0.4)\n",
      "Requirement already satisfied: pydantic!=1.8,!=1.8.1,<1.11.0,>=1.7.4 in c:\\users\\at030915\\anaconda3\\envs\\bert_test\\lib\\site-packages (from spacy->bert-extractive-summarizer==0.4.2) (1.10.4)\n",
      "Requirement already satisfied: murmurhash<1.1.0,>=0.28.0 in c:\\users\\at030915\\anaconda3\\envs\\bert_test\\lib\\site-packages (from spacy->bert-extractive-summarizer==0.4.2) (1.0.9)\n",
      "Requirement already satisfied: wasabi<1.1.0,>=0.9.1 in c:\\users\\at030915\\anaconda3\\envs\\bert_test\\lib\\site-packages (from spacy->bert-extractive-summarizer==0.4.2) (0.10.1)\n",
      "Requirement already satisfied: tqdm<5.0.0,>=4.38.0 in c:\\users\\at030915\\anaconda3\\envs\\bert_test\\lib\\site-packages (from spacy->bert-extractive-summarizer==0.4.2) (4.64.1)\n",
      "Requirement already satisfied: smart-open<7.0.0,>=5.2.1 in c:\\users\\at030915\\anaconda3\\envs\\bert_test\\lib\\site-packages (from spacy->bert-extractive-summarizer==0.4.2) (6.3.0)\n",
      "Requirement already satisfied: jinja2 in c:\\users\\at030915\\appdata\\roaming\\python\\python39\\site-packages (from spacy->bert-extractive-summarizer==0.4.2) (3.1.2)\n",
      "Requirement already satisfied: preshed<3.1.0,>=3.0.2 in c:\\users\\at030915\\anaconda3\\envs\\bert_test\\lib\\site-packages (from spacy->bert-extractive-summarizer==0.4.2) (3.0.8)\n",
      "Requirement already satisfied: thinc<8.2.0,>=8.1.0 in c:\\users\\at030915\\anaconda3\\envs\\bert_test\\lib\\site-packages (from spacy->bert-extractive-summarizer==0.4.2) (8.1.6)\n",
      "Requirement already satisfied: packaging>=20.0 in c:\\users\\at030915\\appdata\\roaming\\python\\python39\\site-packages (from spacy->bert-extractive-summarizer==0.4.2) (22.0)\n",
      "Requirement already satisfied: srsly<3.0.0,>=2.4.3 in c:\\users\\at030915\\anaconda3\\envs\\bert_test\\lib\\site-packages (from spacy->bert-extractive-summarizer==0.4.2) (2.4.5)\n",
      "Requirement already satisfied: typer<0.8.0,>=0.3.0 in c:\\users\\at030915\\anaconda3\\envs\\bert_test\\lib\\site-packages (from spacy->bert-extractive-summarizer==0.4.2) (0.7.0)\n",
      "Requirement already satisfied: catalogue<2.1.0,>=2.0.6 in c:\\users\\at030915\\anaconda3\\envs\\bert_test\\lib\\site-packages (from spacy->bert-extractive-summarizer==0.4.2) (2.0.8)\n",
      "Requirement already satisfied: setuptools in c:\\users\\at030915\\anaconda3\\envs\\bert_test\\lib\\site-packages (from spacy->bert-extractive-summarizer==0.4.2) (65.5.0)\n",
      "Requirement already satisfied: langcodes<4.0.0,>=3.2.0 in c:\\users\\at030915\\anaconda3\\envs\\bert_test\\lib\\site-packages (from spacy->bert-extractive-summarizer==0.4.2) (3.3.0)\n",
      "Requirement already satisfied: pathy>=0.3.5 in c:\\users\\at030915\\anaconda3\\envs\\bert_test\\lib\\site-packages (from spacy->bert-extractive-summarizer==0.4.2) (0.10.1)\n",
      "Requirement already satisfied: cymem<2.1.0,>=2.0.2 in c:\\users\\at030915\\anaconda3\\envs\\bert_test\\lib\\site-packages (from spacy->bert-extractive-summarizer==0.4.2) (2.0.7)\n",
      "Requirement already satisfied: requests<3.0.0,>=2.13.0 in c:\\users\\at030915\\anaconda3\\envs\\bert_test\\lib\\site-packages (from spacy->bert-extractive-summarizer==0.4.2) (2.28.1)\n",
      "Requirement already satisfied: spacy-legacy<3.1.0,>=3.0.10 in c:\\users\\at030915\\anaconda3\\envs\\bert_test\\lib\\site-packages (from spacy->bert-extractive-summarizer==0.4.2) (3.0.11)\n",
      "Requirement already satisfied: regex!=2019.12.17 in c:\\users\\at030915\\anaconda3\\envs\\bert_test\\lib\\site-packages (from transformers->bert-extractive-summarizer==0.4.2) (2022.10.31)\n",
      "Requirement already satisfied: filelock in c:\\users\\at030915\\appdata\\roaming\\python\\python39\\site-packages (from transformers->bert-extractive-summarizer==0.4.2) (3.9.0)\n",
      "Requirement already satisfied: huggingface-hub<1.0,>=0.10.0 in c:\\users\\at030915\\anaconda3\\envs\\bert_test\\lib\\site-packages (from transformers->bert-extractive-summarizer==0.4.2) (0.11.1)\n",
      "Requirement already satisfied: pyyaml>=5.1 in c:\\users\\at030915\\anaconda3\\envs\\bert_test\\lib\\site-packages (from transformers->bert-extractive-summarizer==0.4.2) (6.0)\n",
      "Requirement already satisfied: tokenizers!=0.11.3,<0.14,>=0.11.1 in c:\\users\\at030915\\anaconda3\\envs\\bert_test\\lib\\site-packages (from transformers->bert-extractive-summarizer==0.4.2) (0.13.2)\n",
      "Requirement already satisfied: typing-extensions>=3.7.4.3 in c:\\users\\at030915\\anaconda3\\envs\\bert_test\\lib\\site-packages (from huggingface-hub<1.0,>=0.10.0->transformers->bert-extractive-summarizer==0.4.2) (4.4.0)\n",
      "Requirement already satisfied: urllib3<1.27,>=1.21.1 in c:\\users\\at030915\\anaconda3\\envs\\bert_test\\lib\\site-packages (from requests<3.0.0,>=2.13.0->spacy->bert-extractive-summarizer==0.4.2) (1.26.13)\n",
      "Requirement already satisfied: idna<4,>=2.5 in c:\\users\\at030915\\appdata\\roaming\\python\\python39\\site-packages (from requests<3.0.0,>=2.13.0->spacy->bert-extractive-summarizer==0.4.2) (3.4)\n",
      "Requirement already satisfied: certifi>=2017.4.17 in c:\\users\\at030915\\appdata\\roaming\\python\\python39\\site-packages (from requests<3.0.0,>=2.13.0->spacy->bert-extractive-summarizer==0.4.2) (2022.12.7)\n",
      "Requirement already satisfied: charset-normalizer<3,>=2 in c:\\users\\at030915\\appdata\\roaming\\python\\python39\\site-packages (from requests<3.0.0,>=2.13.0->spacy->bert-extractive-summarizer==0.4.2) (2.1.1)\n",
      "Requirement already satisfied: blis<0.8.0,>=0.7.8 in c:\\users\\at030915\\anaconda3\\envs\\bert_test\\lib\\site-packages (from thinc<8.2.0,>=8.1.0->spacy->bert-extractive-summarizer==0.4.2) (0.7.9)\n",
      "Requirement already satisfied: confection<1.0.0,>=0.0.1 in c:\\users\\at030915\\anaconda3\\envs\\bert_test\\lib\\site-packages (from thinc<8.2.0,>=8.1.0->spacy->bert-extractive-summarizer==0.4.2) (0.0.3)\n",
      "Requirement already satisfied: colorama in c:\\users\\at030915\\appdata\\roaming\\python\\python39\\site-packages (from tqdm<5.0.0,>=4.38.0->spacy->bert-extractive-summarizer==0.4.2) (0.4.6)\n",
      "Requirement already satisfied: click<9.0.0,>=7.1.1 in c:\\users\\at030915\\appdata\\roaming\\python\\python39\\site-packages (from typer<0.8.0,>=0.3.0->spacy->bert-extractive-summarizer==0.4.2) (8.1.3)\n",
      "Requirement already satisfied: MarkupSafe>=2.0 in c:\\users\\at030915\\appdata\\roaming\\python\\python39\\site-packages (from jinja2->spacy->bert-extractive-summarizer==0.4.2) (2.1.1)\n",
      "Requirement already satisfied: transformers in c:\\users\\at030915\\anaconda3\\envs\\bert_test\\lib\\site-packages (4.25.1)\n",
      "Requirement already satisfied: filelock in c:\\users\\at030915\\appdata\\roaming\\python\\python39\\site-packages (from transformers) (3.9.0)\n",
      "Requirement already satisfied: tokenizers!=0.11.3,<0.14,>=0.11.1 in c:\\users\\at030915\\anaconda3\\envs\\bert_test\\lib\\site-packages (from transformers) (0.13.2)\n",
      "Requirement already satisfied: packaging>=20.0 in c:\\users\\at030915\\appdata\\roaming\\python\\python39\\site-packages (from transformers) (22.0)\n",
      "Requirement already satisfied: numpy>=1.17 in c:\\users\\at030915\\appdata\\roaming\\python\\python39\\site-packages (from transformers) (1.24.1)\n",
      "Requirement already satisfied: regex!=2019.12.17 in c:\\users\\at030915\\anaconda3\\envs\\bert_test\\lib\\site-packages (from transformers) (2022.10.31)\n",
      "Requirement already satisfied: tqdm>=4.27 in c:\\users\\at030915\\anaconda3\\envs\\bert_test\\lib\\site-packages (from transformers) (4.64.1)\n",
      "Requirement already satisfied: pyyaml>=5.1 in c:\\users\\at030915\\anaconda3\\envs\\bert_test\\lib\\site-packages (from transformers) (6.0)\n",
      "Requirement already satisfied: huggingface-hub<1.0,>=0.10.0 in c:\\users\\at030915\\anaconda3\\envs\\bert_test\\lib\\site-packages (from transformers) (0.11.1)\n",
      "Requirement already satisfied: requests in c:\\users\\at030915\\anaconda3\\envs\\bert_test\\lib\\site-packages (from transformers) (2.28.1)\n",
      "Requirement already satisfied: typing-extensions>=3.7.4.3 in c:\\users\\at030915\\anaconda3\\envs\\bert_test\\lib\\site-packages (from huggingface-hub<1.0,>=0.10.0->transformers) (4.4.0)\n",
      "Requirement already satisfied: colorama in c:\\users\\at030915\\appdata\\roaming\\python\\python39\\site-packages (from tqdm>=4.27->transformers) (0.4.6)\n",
      "Requirement already satisfied: urllib3<1.27,>=1.21.1 in c:\\users\\at030915\\anaconda3\\envs\\bert_test\\lib\\site-packages (from requests->transformers) (1.26.13)\n",
      "Requirement already satisfied: charset-normalizer<3,>=2 in c:\\users\\at030915\\appdata\\roaming\\python\\python39\\site-packages (from requests->transformers) (2.1.1)\n",
      "Requirement already satisfied: certifi>=2017.4.17 in c:\\users\\at030915\\appdata\\roaming\\python\\python39\\site-packages (from requests->transformers) (2022.12.7)\n",
      "Requirement already satisfied: idna<4,>=2.5 in c:\\users\\at030915\\appdata\\roaming\\python\\python39\\site-packages (from requests->transformers) (3.4)\n",
      "Requirement already satisfied: torch in c:\\users\\at030915\\anaconda3\\envs\\bert_test\\lib\\site-packages (1.13.1)\n",
      "Requirement already satisfied: typing-extensions in c:\\users\\at030915\\anaconda3\\envs\\bert_test\\lib\\site-packages (from torch) (4.4.0)\n",
      "Package                    Version\n",
      "-------------------------- ----------\n",
      "bert-extractive-summarizer 0.4.2\n",
      "blis                       0.7.9\n",
      "boto3                      1.26.43\n",
      "botocore                   1.29.43\n",
      "catalogue                  2.0.8\n",
      "certifi                    2022.12.7\n",
      "charset-normalizer         2.1.1\n",
      "click                      8.1.3\n",
      "colorama                   0.4.6\n",
      "confection                 0.0.3\n",
      "cymem                      2.0.7\n",
      "filelock                   3.9.0\n",
      "huggingface-hub            0.11.1\n",
      "idna                       3.4\n",
      "Jinja2                     3.1.2\n",
      "jmespath                   1.0.1\n",
      "joblib                     1.2.0\n",
      "langcodes                  3.3.0\n",
      "MarkupSafe                 2.1.1\n",
      "murmurhash                 1.0.9\n",
      "nltk                       3.8.1\n",
      "numpy                      1.24.1\n",
      "packaging                  22.0\n",
      "pathy                      0.10.1\n",
      "pip                        22.3.1\n",
      "preshed                    3.0.8\n",
      "pydantic                   1.10.4\n",
      "python-dateutil            2.8.2\n",
      "PyYAML                     6.0\n",
      "regex                      2022.10.31\n",
      "requests                   2.28.1\n",
      "s3transfer                 0.6.0\n",
      "sacremoses                 0.0.53\n",
      "scikit-learn               1.2.0\n",
      "scipy                      1.10.0\n",
      "sentencepiece              0.1.97\n",
      "setuptools                 65.5.0\n",
      "six                        1.16.0\n",
      "smart-open                 6.3.0\n",
      "spacy                      3.4.4\n",
      "spacy-legacy               3.0.11\n",
      "spacy-loggers              1.0.4\n",
      "srsly                      2.4.5\n",
      "summarizer                 0.0.7\n",
      "thinc                      8.1.6\n",
      "threadpoolctl              3.1.0\n",
      "tokenizers                 0.13.2\n",
      "torch                      1.13.1\n",
      "tqdm                       4.64.1\n",
      "transformers               4.25.1\n",
      "typer                      0.7.0\n",
      "typing_extensions          4.4.0\n",
      "urllib3                    1.26.13\n",
      "wasabi                     0.10.1\n",
      "wheel                      0.37.1\n",
      "wincertstore               0.2\n",
      "wrapt                      1.10.11\n"
     ]
    }
   ],
   "source": [
    "#Install required packages \n",
    "# !pip install transformers==2.2.0\n",
    "# !pip install bert-extractive-summarizer\n",
    "# !pip install spacy==2.0.12\n",
    "\n",
    "\n",
    "!pip install -q bert-extractive-summarizer\n",
    "!pip install -q spacy\n",
    "!pip install -q transformers\n",
    "#!pip install -q neuralcoref\n",
    "\n",
    "#fix object not call able\n",
    "!pip install -q torch==1.6.0+cpu torchvision==0.7.0+cpu -f https://download.pytorch.org/whl/torch_stable.html\n",
    "!pip install -q bert-extractive-summarizer==0.4.2\n",
    "\n",
    "!pip install -q transformers --upgrade\n",
    "!pip install -q torch \n",
    "\n",
    "\n",
    "# !pip install -q bert-extractive-summarizer\n",
    "# !pip install -q spacy\n",
    "# !pip install -q transformers\n",
    "# !pip install -q neuralcoref\n",
    "#!pip install --user -r ../requirements.txt\n",
    "!pip list"
   ]
  },
  {
   "cell_type": "code",
   "execution_count": 9,
   "id": "f716ed6e-e1f0-4fda-8caa-5befbf2e0981",
   "metadata": {},
   "outputs": [
    {
     "ename": "ValueError",
     "evalue": "[E966] `nlp.add_pipe` now takes the string name of the registered component factory, not a callable component. Expected string, but got <spacy.pipeline.sentencizer.Sentencizer object at 0x0000021FFD4A7EC0> (name: 'None').\n\n- If you created your component with `nlp.create_pipe('name')`: remove nlp.create_pipe and call `nlp.add_pipe('name')` instead.\n\n- If you passed in a component like `TextCategorizer()`: call `nlp.add_pipe` with the string name instead, e.g. `nlp.add_pipe('textcat')`.\n\n- If you're using a custom component: Add the decorator `@Language.component` (for function components) or `@Language.factory` (for class components / factories) to your custom component and assign it a name, e.g. `@Language.component('your_name')`. You can then run `nlp.add_pipe('your_name')` to add it to the pipeline.",
     "output_type": "error",
     "traceback": [
      "\u001b[1;31m---------------------------------------------------------------------------\u001b[0m",
      "\u001b[1;31mValueError\u001b[0m                                Traceback (most recent call last)",
      "\u001b[1;32m~\\AppData\\Local\\Temp\\ipykernel_9092\\1161840995.py\u001b[0m in \u001b[0;36m<module>\u001b[1;34m\u001b[0m\n\u001b[0;32m      1\u001b[0m \u001b[1;32mimport\u001b[0m \u001b[0mtorch\u001b[0m\u001b[1;33m\u001b[0m\u001b[1;33m\u001b[0m\u001b[0m\n\u001b[1;32m----> 2\u001b[1;33m \u001b[1;32mfrom\u001b[0m \u001b[0msummarizer\u001b[0m \u001b[1;32mimport\u001b[0m \u001b[0mSummarizer\u001b[0m\u001b[1;33m\u001b[0m\u001b[1;33m\u001b[0m\u001b[0m\n\u001b[0m",
      "\u001b[1;32m~\\anaconda3\\lib\\site-packages\\summarizer\\__init__.py\u001b[0m in \u001b[0;36m<module>\u001b[1;34m\u001b[0m\n\u001b[1;32m----> 1\u001b[1;33m \u001b[1;32mfrom\u001b[0m \u001b[0msummarizer\u001b[0m\u001b[1;33m.\u001b[0m\u001b[0mmodel_processors\u001b[0m \u001b[1;32mimport\u001b[0m \u001b[0mSummarizer\u001b[0m\u001b[1;33m,\u001b[0m \u001b[0mSingleModel\u001b[0m\u001b[1;33m,\u001b[0m \u001b[0mTransformerSummarizer\u001b[0m\u001b[1;33m\u001b[0m\u001b[1;33m\u001b[0m\u001b[0m\n\u001b[0m",
      "\u001b[1;32m~\\anaconda3\\lib\\site-packages\\summarizer\\model_processors.py\u001b[0m in \u001b[0;36m<module>\u001b[1;34m\u001b[0m\n\u001b[0;32m      8\u001b[0m \u001b[1;33m\u001b[0m\u001b[0m\n\u001b[0;32m      9\u001b[0m \u001b[1;33m\u001b[0m\u001b[0m\n\u001b[1;32m---> 10\u001b[1;33m \u001b[1;32mclass\u001b[0m \u001b[0mModelProcessor\u001b[0m\u001b[1;33m(\u001b[0m\u001b[0mobject\u001b[0m\u001b[1;33m)\u001b[0m\u001b[1;33m:\u001b[0m\u001b[1;33m\u001b[0m\u001b[1;33m\u001b[0m\u001b[0m\n\u001b[0m\u001b[0;32m     11\u001b[0m \u001b[1;33m\u001b[0m\u001b[0m\n\u001b[0;32m     12\u001b[0m     def __init__(\n",
      "\u001b[1;32m~\\anaconda3\\lib\\site-packages\\summarizer\\model_processors.py\u001b[0m in \u001b[0;36mModelProcessor\u001b[1;34m()\u001b[0m\n\u001b[0;32m     17\u001b[0m         \u001b[0mhidden\u001b[0m\u001b[1;33m:\u001b[0m \u001b[0mint\u001b[0m \u001b[1;33m=\u001b[0m \u001b[1;33m-\u001b[0m\u001b[1;36m2\u001b[0m\u001b[1;33m,\u001b[0m\u001b[1;33m\u001b[0m\u001b[1;33m\u001b[0m\u001b[0m\n\u001b[0;32m     18\u001b[0m         \u001b[0mreduce_option\u001b[0m\u001b[1;33m:\u001b[0m \u001b[0mstr\u001b[0m \u001b[1;33m=\u001b[0m \u001b[1;34m'mean'\u001b[0m\u001b[1;33m,\u001b[0m\u001b[1;33m\u001b[0m\u001b[1;33m\u001b[0m\u001b[0m\n\u001b[1;32m---> 19\u001b[1;33m         \u001b[0msentence_handler\u001b[0m\u001b[1;33m:\u001b[0m \u001b[0mSentenceHandler\u001b[0m \u001b[1;33m=\u001b[0m \u001b[0mSentenceHandler\u001b[0m\u001b[1;33m(\u001b[0m\u001b[1;33m)\u001b[0m\u001b[1;33m,\u001b[0m\u001b[1;33m\u001b[0m\u001b[1;33m\u001b[0m\u001b[0m\n\u001b[0m\u001b[0;32m     20\u001b[0m         \u001b[0mrandom_state\u001b[0m\u001b[1;33m:\u001b[0m \u001b[0mint\u001b[0m \u001b[1;33m=\u001b[0m \u001b[1;36m12345\u001b[0m\u001b[1;33m\u001b[0m\u001b[1;33m\u001b[0m\u001b[0m\n\u001b[0;32m     21\u001b[0m     ):\n",
      "\u001b[1;32m~\\anaconda3\\lib\\site-packages\\summarizer\\sentence_handler.py\u001b[0m in \u001b[0;36m__init__\u001b[1;34m(self, language)\u001b[0m\n\u001b[0;32m      6\u001b[0m     \u001b[1;32mdef\u001b[0m \u001b[0m__init__\u001b[0m\u001b[1;33m(\u001b[0m\u001b[0mself\u001b[0m\u001b[1;33m,\u001b[0m \u001b[0mlanguage\u001b[0m \u001b[1;33m=\u001b[0m \u001b[0mEnglish\u001b[0m\u001b[1;33m)\u001b[0m\u001b[1;33m:\u001b[0m\u001b[1;33m\u001b[0m\u001b[1;33m\u001b[0m\u001b[0m\n\u001b[0;32m      7\u001b[0m         \u001b[0mself\u001b[0m\u001b[1;33m.\u001b[0m\u001b[0mnlp\u001b[0m \u001b[1;33m=\u001b[0m \u001b[0mlanguage\u001b[0m\u001b[1;33m(\u001b[0m\u001b[1;33m)\u001b[0m\u001b[1;33m\u001b[0m\u001b[1;33m\u001b[0m\u001b[0m\n\u001b[1;32m----> 8\u001b[1;33m         \u001b[0mself\u001b[0m\u001b[1;33m.\u001b[0m\u001b[0mnlp\u001b[0m\u001b[1;33m.\u001b[0m\u001b[0madd_pipe\u001b[0m\u001b[1;33m(\u001b[0m\u001b[0mself\u001b[0m\u001b[1;33m.\u001b[0m\u001b[0mnlp\u001b[0m\u001b[1;33m.\u001b[0m\u001b[0mcreate_pipe\u001b[0m\u001b[1;33m(\u001b[0m\u001b[1;34m'sentencizer'\u001b[0m\u001b[1;33m)\u001b[0m\u001b[1;33m)\u001b[0m\u001b[1;33m\u001b[0m\u001b[1;33m\u001b[0m\u001b[0m\n\u001b[0m\u001b[0;32m      9\u001b[0m \u001b[1;33m\u001b[0m\u001b[0m\n\u001b[0;32m     10\u001b[0m     \u001b[1;32mdef\u001b[0m \u001b[0mprocess\u001b[0m\u001b[1;33m(\u001b[0m\u001b[0mself\u001b[0m\u001b[1;33m,\u001b[0m \u001b[0mbody\u001b[0m\u001b[1;33m:\u001b[0m \u001b[0mstr\u001b[0m\u001b[1;33m,\u001b[0m \u001b[0mmin_length\u001b[0m\u001b[1;33m:\u001b[0m \u001b[0mint\u001b[0m \u001b[1;33m=\u001b[0m \u001b[1;36m40\u001b[0m\u001b[1;33m,\u001b[0m \u001b[0mmax_length\u001b[0m\u001b[1;33m:\u001b[0m \u001b[0mint\u001b[0m \u001b[1;33m=\u001b[0m \u001b[1;36m600\u001b[0m\u001b[1;33m)\u001b[0m\u001b[1;33m:\u001b[0m\u001b[1;33m\u001b[0m\u001b[1;33m\u001b[0m\u001b[0m\n",
      "\u001b[1;32m~\\anaconda3\\lib\\site-packages\\spacy\\language.py\u001b[0m in \u001b[0;36madd_pipe\u001b[1;34m(self, factory_name, name, before, after, first, last, source, config, raw_config, validate)\u001b[0m\n\u001b[0;32m    777\u001b[0m             \u001b[0mbad_val\u001b[0m \u001b[1;33m=\u001b[0m \u001b[0mrepr\u001b[0m\u001b[1;33m(\u001b[0m\u001b[0mfactory_name\u001b[0m\u001b[1;33m)\u001b[0m\u001b[1;33m\u001b[0m\u001b[1;33m\u001b[0m\u001b[0m\n\u001b[0;32m    778\u001b[0m             \u001b[0merr\u001b[0m \u001b[1;33m=\u001b[0m \u001b[0mErrors\u001b[0m\u001b[1;33m.\u001b[0m\u001b[0mE966\u001b[0m\u001b[1;33m.\u001b[0m\u001b[0mformat\u001b[0m\u001b[1;33m(\u001b[0m\u001b[0mcomponent\u001b[0m\u001b[1;33m=\u001b[0m\u001b[0mbad_val\u001b[0m\u001b[1;33m,\u001b[0m \u001b[0mname\u001b[0m\u001b[1;33m=\u001b[0m\u001b[0mname\u001b[0m\u001b[1;33m)\u001b[0m\u001b[1;33m\u001b[0m\u001b[1;33m\u001b[0m\u001b[0m\n\u001b[1;32m--> 779\u001b[1;33m             \u001b[1;32mraise\u001b[0m \u001b[0mValueError\u001b[0m\u001b[1;33m(\u001b[0m\u001b[0merr\u001b[0m\u001b[1;33m)\u001b[0m\u001b[1;33m\u001b[0m\u001b[1;33m\u001b[0m\u001b[0m\n\u001b[0m\u001b[0;32m    780\u001b[0m         \u001b[0mname\u001b[0m \u001b[1;33m=\u001b[0m \u001b[0mname\u001b[0m \u001b[1;32mif\u001b[0m \u001b[0mname\u001b[0m \u001b[1;32mis\u001b[0m \u001b[1;32mnot\u001b[0m \u001b[1;32mNone\u001b[0m \u001b[1;32melse\u001b[0m \u001b[0mfactory_name\u001b[0m\u001b[1;33m\u001b[0m\u001b[1;33m\u001b[0m\u001b[0m\n\u001b[0;32m    781\u001b[0m         \u001b[1;32mif\u001b[0m \u001b[0mname\u001b[0m \u001b[1;32min\u001b[0m \u001b[0mself\u001b[0m\u001b[1;33m.\u001b[0m\u001b[0mcomponent_names\u001b[0m\u001b[1;33m:\u001b[0m\u001b[1;33m\u001b[0m\u001b[1;33m\u001b[0m\u001b[0m\n",
      "\u001b[1;31mValueError\u001b[0m: [E966] `nlp.add_pipe` now takes the string name of the registered component factory, not a callable component. Expected string, but got <spacy.pipeline.sentencizer.Sentencizer object at 0x0000021FFD4A7EC0> (name: 'None').\n\n- If you created your component with `nlp.create_pipe('name')`: remove nlp.create_pipe and call `nlp.add_pipe('name')` instead.\n\n- If you passed in a component like `TextCategorizer()`: call `nlp.add_pipe` with the string name instead, e.g. `nlp.add_pipe('textcat')`.\n\n- If you're using a custom component: Add the decorator `@Language.component` (for function components) or `@Language.factory` (for class components / factories) to your custom component and assign it a name, e.g. `@Language.component('your_name')`. You can then run `nlp.add_pipe('your_name')` to add it to the pipeline."
     ]
    }
   ],
   "source": [
    "import torch\n",
    "from summarizer import Summarizer"
   ]
  },
  {
   "cell_type": "code",
   "execution_count": 6,
   "id": "60ade27e-2f90-48b0-86b3-d1521bc7124f",
   "metadata": {},
   "outputs": [
    {
     "name": "stdout",
     "output_type": "stream",
     "text": [
      "       Scientists say they have discovered a new species of orangutans on Indonesia's island of Sumatra.\n",
      "The population differs in several ways from the two existing orangutan species found in Sumatra and the neighboring island of Borneo.\n",
      "The orangutans were found inside North Sumatra's Batang Toru forest, the science publication Current Biology reported.\n",
      "Researchers named the new species the Tapanuli orangutan. They say the animals are considered a new species because of genetic, skeletal and tooth differences.\n",
      "Michael Kruetzen is a geneticist with the University of Zurich who has studied the orangutans for several years. He said he was excited to be part of the unusual discovery of a new great ape in the present day. He noted that most great apes are currently considered endangered or severely endangered.\n",
      "Gorillas, chimpanzees and bonobos also belong to the great ape species.\n",
      "Orangutan - which means person of the forest in the Indonesian and Malay languages - is the world's biggest tree-living mammal. The orange-haired animals can move easily among the trees because their arms are longer than their legs. They live more lonely lives than other great apes, spending a lot of time sleeping and eating fruit in the forest.\n",
      "The new study said fewer than 800 of the newly-described orangutans exist. Their low numbers make the group the most endangered of all the great ape species.\n",
      "They live within an area covering about 1,000 square kilometers. The population is considered highly vulnerable. That is because the environment which they depend on is greatly threatened by development.\n",
      "Researchers say if steps are not taken quickly to reduce the current and future threats, the new species could become extinct \"within our lifetime.\"\n",
      "Research into the new species began in 2013, when an orangutan protection group in Sumatra found an injured orangutan in an area far away from the other species. The adult male orangutan had been beaten by local villagers and died of his injuries. The complete skull was examined by researchers.\n",
      "Among the physical differences of the new species are a notably smaller head and frizzier hair. The Tapanuli orangutans also have a different diet and are found only in higher forest areas.\n",
      "There is no unified international system for recognizing new species. But to be considered, discovery claims at least require publication in a major scientific publication.\n",
      "Russell Mittermeier is head of the primate specialist group at the International Union for the Conservation of Nature. He called the finding a \"remarkable discovery.\" He said it puts responsibility on the Indonesian government to help the species survive.\n",
      "Matthew Nowak is one of the writers of the study. He told the Associated Press that there are three groups of the Tapanuli orangutans that are separated by non-protected land.He said forest land needs to connect the separated groups.\n",
      "In addition, the writers of the study are recommending that plans for a hydropower center in the area be stopped by the government.\n",
      "It also recommended that remaining forest in the Sumatran area where the orangutans live be protected.\n",
      "I'm Bryan Lynn.\n",
      "\n"
     ]
    }
   ],
   "source": [
    "f = open('body_corpus.txt', 'r')\n",
    "#Store content in a variable:\n",
    "body = f.read()\n",
    "print(body)"
   ]
  },
  {
   "cell_type": "code",
   "execution_count": 8,
   "id": "d32e6e4c-f2c1-4f4f-a160-54fbfd78cdc9",
   "metadata": {},
   "outputs": [
    {
     "ename": "NameError",
     "evalue": "name 'Summarizer' is not defined",
     "output_type": "error",
     "traceback": [
      "\u001b[1;31m---------------------------------------------------------------------------\u001b[0m",
      "\u001b[1;31mNameError\u001b[0m                                 Traceback (most recent call last)",
      "\u001b[1;32m~\\AppData\\Local\\Temp\\ipykernel_9092\\37838798.py\u001b[0m in \u001b[0;36m<module>\u001b[1;34m\u001b[0m\n\u001b[0;32m      1\u001b[0m \u001b[1;31m# try summarising\u001b[0m\u001b[1;33m\u001b[0m\u001b[1;33m\u001b[0m\u001b[0m\n\u001b[1;32m----> 2\u001b[1;33m \u001b[0mbert_model\u001b[0m \u001b[1;33m=\u001b[0m \u001b[0mSummarizer\u001b[0m\u001b[1;33m(\u001b[0m\u001b[1;33m)\u001b[0m\u001b[1;33m\u001b[0m\u001b[1;33m\u001b[0m\u001b[0m\n\u001b[0m\u001b[0;32m      3\u001b[0m \u001b[0mbert_summary\u001b[0m \u001b[1;33m=\u001b[0m \u001b[1;34m''\u001b[0m\u001b[1;33m.\u001b[0m\u001b[0mjoin\u001b[0m\u001b[1;33m(\u001b[0m\u001b[0mbert_model\u001b[0m\u001b[1;33m(\u001b[0m\u001b[0mbody\u001b[0m\u001b[1;33m,\u001b[0m \u001b[0mmin_length\u001b[0m\u001b[1;33m=\u001b[0m\u001b[1;36m60\u001b[0m\u001b[1;33m)\u001b[0m\u001b[1;33m)\u001b[0m\u001b[1;33m\u001b[0m\u001b[1;33m\u001b[0m\u001b[0m\n\u001b[0;32m      4\u001b[0m \u001b[0mprint\u001b[0m\u001b[1;33m(\u001b[0m\u001b[0mbert_summary\u001b[0m\u001b[1;33m)\u001b[0m\u001b[1;33m\u001b[0m\u001b[1;33m\u001b[0m\u001b[0m\n",
      "\u001b[1;31mNameError\u001b[0m: name 'Summarizer' is not defined"
     ]
    }
   ],
   "source": [
    "# try summarising\n",
    "bert_model = Summarizer()\n",
    "bert_summary = ''.join(bert_model(body, min_length=60))\n",
    "print(bert_summary)"
   ]
  },
  {
   "cell_type": "code",
   "execution_count": null,
   "id": "b00a3609-b3e3-41a1-a75c-c6dc09dc01bb",
   "metadata": {},
   "outputs": [],
   "source": []
  },
  {
   "cell_type": "code",
   "execution_count": null,
   "id": "be97a8b6-c847-4ac8-9cb9-12dbd6822fd8",
   "metadata": {},
   "outputs": [],
   "source": []
  }
 ],
 "metadata": {
  "kernelspec": {
   "display_name": "BERT_TEST",
   "language": "python",
   "name": "bert_test"
  },
  "language_info": {
   "codemirror_mode": {
    "name": "ipython",
    "version": 3
   },
   "file_extension": ".py",
   "mimetype": "text/x-python",
   "name": "python",
   "nbconvert_exporter": "python",
   "pygments_lexer": "ipython3",
   "version": "3.9.13"
  }
 },
 "nbformat": 4,
 "nbformat_minor": 5
}
